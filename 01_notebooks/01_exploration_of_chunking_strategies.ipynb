{
 "cells": [
  {
   "cell_type": "code",
   "execution_count": 2,
   "id": "602955bd-6c28-49fd-8f86-e2ff6719f2b5",
   "metadata": {
    "ExecuteTime": {
     "end_time": "2024-07-31T17:52:41.977774Z",
     "start_time": "2024-07-31T17:52:38.760057Z"
    }
   },
   "outputs": [],
   "source": [
    "import re\n",
    "\n",
    "from sklearn.feature_extraction.text import TfidfVectorizer\n",
    "FILE_PATH = \"../data/no_sale_countries.md\""
   ]
  },
  {
   "cell_type": "markdown",
   "source": [
    "# Chunk Strategy of documents"
   ],
   "metadata": {
    "collapsed": false
   },
   "id": "1482844990ed4f86"
  },
  {
   "cell_type": "markdown",
   "source": [
    "## Simple Chunking"
   ],
   "metadata": {
    "collapsed": false
   },
   "id": "7e6dfbf7b2d56f49"
  },
  {
   "cell_type": "code",
   "execution_count": 11,
   "outputs": [
    {
     "name": "stdout",
     "output_type": "stream",
     "text": [
      "--------\n",
      "# No Sale Countries\n",
      "As part of our commitment to ethical business practices and compliance with international regulations, [Your Company Name] has identified certain countries where we will not conduct sales. This decision is based on a combination of factors including but not limited to legal restrictions, ethical concerns, and market conditions.\n",
      "--------\n",
      "--------\n",
      "The following countries are on our no sale list, along with the specific reasons for each designation:\n",
      "--------\n",
      "--------\n",
      "1. Spain\n",
      "- Reason: Compliance with Local Regulations\n",
      "  - Spain has recently implemented stringent regulations on the sale of specific categories of products that we manufacture. Our current product lines do not meet the new regulatory requirements, and bringing them into compliance would require significant changes to our production process and supply chain, resulting in unsustainable costs.\n",
      "--------\n",
      "--------\n",
      "2. Italy\n",
      "- Reason: Unstable Economic Environment\n",
      "  - The ongoing economic instability in Italy poses a high risk for business operations. The fluctuating currency value and unpredictable economic policies create an uncertain environment that could lead to substantial financial losses. Until the economic situation stabilizes, we have decided to suspend all sales to Italy to safeguard our company's interests.\n",
      "--------\n",
      "--------\n",
      "3. Germany\n",
      "- Reason: Market Saturation and Competition\n",
      "  - The German market is currently saturated with competitors offering similar products at lower prices. The high level of competition, combined with significant market entry barriers, makes it challenging to achieve a profitable market share. Consequently, we have decided to redirect our resources to more viable markets.\n",
      "--------\n",
      "--------\n",
      "4. Sweden\n",
      "- Reason: Ethical and Environmental Concerns\n",
      "  - Sweden has stringent environmental protection laws and a strong emphasis on sustainable practices. Some of our products do not yet meet Sweden's high environmental standards. Additionally, there have been concerns raised about the ethical sourcing of materials used in our products. Until we can ensure full compliance with Sweden's ethical and environmental standards, we will not conduct sales in this market.\n",
      "--------\n",
      "--------\n",
      "### Conclusion\n",
      "Our decision to not sell in these countries is based on a thorough analysis of various factors that impact our business operations and ethical standards. We remain committed to exploring potential opportunities in these regions in the future, should the conditions change favorably.\n",
      "--------\n",
      "--------\n",
      "If you have any questions or require further information, please contact the Compliance Department.\n",
      "--------\n"
     ]
    }
   ],
   "source": [
    "with open(FILE_PATH, 'r') as file:\n",
    "    document = file.read()\n",
    "sections = document.split('\\n\\n')\n",
    "\n",
    "#TODO: instead of this OpenAI Embeddings or any other embeddings can be used\n",
    "vectorizer = TfidfVectorizer()\n",
    "vectors = vectorizer.fit_transform(sections).toarray()\n",
    "\n",
    "for sec in sections:\n",
    "    print(\"--------\")\n",
    "    print(sec)\n",
    "    print(\"--------\")"
   ],
   "metadata": {
    "collapsed": false,
    "ExecuteTime": {
     "end_time": "2024-07-31T17:58:22.312356Z",
     "start_time": "2024-07-31T17:58:22.305546Z"
    }
   },
   "id": "6cf304de4241685c"
  },
  {
   "cell_type": "markdown",
   "source": [
    "## Langchain Character chunking"
   ],
   "metadata": {
    "collapsed": false
   },
   "id": "a8848ed1b4c93308"
  },
  {
   "cell_type": "code",
   "execution_count": 12,
   "outputs": [
    {
     "name": "stderr",
     "output_type": "stream",
     "text": [
      "Created a chunk of size 349, which is longer than the specified 100\n",
      "Created a chunk of size 102, which is longer than the specified 100\n",
      "Created a chunk of size 394, which is longer than the specified 100\n",
      "Created a chunk of size 410, which is longer than the specified 100\n",
      "Created a chunk of size 378, which is longer than the specified 100\n",
      "Created a chunk of size 470, which is longer than the specified 100\n",
      "Created a chunk of size 297, which is longer than the specified 100\n"
     ]
    },
    {
     "name": "stdout",
     "output_type": "stream",
     "text": [
      "--------\n",
      "page_content='# No Sale Countries\n",
      "As part of our commitment to ethical business practices and compliance with international regulations, [Your Company Name] has identified certain countries where we will not conduct sales. This decision is based on a combination of factors including but not limited to legal restrictions, ethical concerns, and market conditions.' metadata={'document': '../no_sale_countries.md', 'title': '# No Sale Countries'}\n",
      "--------\n",
      "--------\n",
      "page_content='The following countries are on our no sale list, along with the specific reasons for each designation:' metadata={'document': '../no_sale_countries.md', 'title': 'No header'}\n",
      "--------\n",
      "--------\n",
      "page_content='1. Spain\n",
      "- Reason: Compliance with Local Regulations\n",
      "  - Spain has recently implemented stringent regulations on the sale of specific categories of products that we manufacture. Our current product lines do not meet the new regulatory requirements, and bringing them into compliance would require significant changes to our production process and supply chain, resulting in unsustainable costs.' metadata={'document': '../no_sale_countries.md', 'title': '1. Spain'}\n",
      "--------\n",
      "--------\n",
      "page_content='2. Italy\n",
      "- Reason: Unstable Economic Environment\n",
      "  - The ongoing economic instability in Italy poses a high risk for business operations. The fluctuating currency value and unpredictable economic policies create an uncertain environment that could lead to substantial financial losses. Until the economic situation stabilizes, we have decided to suspend all sales to Italy to safeguard our company's interests.' metadata={'document': '../no_sale_countries.md', 'title': '2. Italy'}\n",
      "--------\n",
      "--------\n",
      "page_content='3. Germany\n",
      "- Reason: Market Saturation and Competition\n",
      "  - The German market is currently saturated with competitors offering similar products at lower prices. The high level of competition, combined with significant market entry barriers, makes it challenging to achieve a profitable market share. Consequently, we have decided to redirect our resources to more viable markets.' metadata={'document': '../no_sale_countries.md', 'title': '3. Germany'}\n",
      "--------\n",
      "--------\n",
      "page_content='4. Sweden\n",
      "- Reason: Ethical and Environmental Concerns\n",
      "  - Sweden has stringent environmental protection laws and a strong emphasis on sustainable practices. Some of our products do not yet meet Sweden's high environmental standards. Additionally, there have been concerns raised about the ethical sourcing of materials used in our products. Until we can ensure full compliance with Sweden's ethical and environmental standards, we will not conduct sales in this market.' metadata={'document': '../no_sale_countries.md', 'title': '4. Sweden'}\n",
      "--------\n",
      "--------\n",
      "page_content='### Conclusion\n",
      "Our decision to not sell in these countries is based on a thorough analysis of various factors that impact our business operations and ethical standards. We remain committed to exploring potential opportunities in these regions in the future, should the conditions change favorably.' metadata={'document': '../no_sale_countries.md', 'title': '### Conclusion'}\n",
      "--------\n",
      "--------\n",
      "page_content='If you have any questions or require further information, please contact the Compliance Department.' metadata={'document': '../no_sale_countries.md', 'title': 'No header'}\n",
      "--------\n"
     ]
    }
   ],
   "source": [
    "from langchain_text_splitters import CharacterTextSplitter\n",
    "import re\n",
    "with open(FILE_PATH, 'r') as file:\n",
    "    markdown = file.read()\n",
    "\n",
    "text_splitter = CharacterTextSplitter(separator=\"\\n\\n\", chunk_size=100,\n",
    "    chunk_overlap=20,\n",
    "    length_function=len,\n",
    "    is_separator_regex=False,)\n",
    "\n",
    "chunks_of_text = text_splitter.split_text(markdown)\n",
    "\n",
    "metadata = []\n",
    "for chunk in chunks_of_text:\n",
    "    header = chunk.split(\"\\n\")[0]\n",
    "    \n",
    "    if \"#\" in header or bool(re.search(r'\\d', header)):\n",
    "        metadata.append({\"document\": FILE_PATH, \"title\": header})\n",
    "    else:\n",
    "        metadata.append({\"document\": FILE_PATH, \"title\": \"No header\"})\n",
    "\n",
    "documents = text_splitter.create_documents(texts=chunks_of_text, metadatas=metadata)\n",
    "for doc in documents:\n",
    "    print(\"--------\")\n",
    "    print(doc)\n",
    "    print(\"--------\")"
   ],
   "metadata": {
    "collapsed": false,
    "ExecuteTime": {
     "end_time": "2024-07-31T17:59:55.799027Z",
     "start_time": "2024-07-31T17:59:55.791209Z"
    }
   },
   "id": "aec0d3afc737ef07"
  },
  {
   "cell_type": "markdown",
   "source": [
    "## Langchain Recursive chunking"
   ],
   "metadata": {
    "collapsed": false,
    "ExecuteTime": {
     "end_time": "2024-07-31T17:26:42.183301Z",
     "start_time": "2024-07-31T17:26:42.180227Z"
    }
   },
   "id": "5303fed84dc3b408"
  },
  {
   "cell_type": "raw",
   "source": [
    "Wanted to experiment if there is any additional feature in recursive approach that we can utilize. however, there is not much"
   ],
   "metadata": {
    "collapsed": false
   },
   "id": "dc5137cfa504f9fe"
  },
  {
   "cell_type": "code",
   "execution_count": 13,
   "outputs": [
    {
     "name": "stdout",
     "output_type": "stream",
     "text": [
      "--------\n",
      "page_content='# No Sale Countries'\n",
      "--------\n",
      "--------\n",
      "page_content='As part of our commitment to ethical business practices and compliance with international'\n",
      "--------\n",
      "--------\n",
      "page_content='regulations, [Your Company Name] has identified certain countries where we will not conduct sales.'\n",
      "--------\n",
      "--------\n",
      "page_content='This decision is based on a combination of factors including but not limited to legal restrictions,'\n",
      "--------\n",
      "--------\n",
      "page_content='ethical concerns, and market conditions.'\n",
      "--------\n",
      "--------\n",
      "page_content='The following countries are on our no sale list, along with the specific reasons for each'\n",
      "--------\n",
      "--------\n",
      "page_content='designation:'\n",
      "--------\n",
      "--------\n",
      "page_content='1. Spain\n",
      "- Reason: Compliance with Local Regulations'\n",
      "--------\n",
      "--------\n",
      "page_content='- Spain has recently implemented stringent regulations on the sale of specific categories of'\n",
      "--------\n",
      "--------\n",
      "page_content='products that we manufacture. Our current product lines do not meet the new regulatory'\n",
      "--------\n",
      "--------\n",
      "page_content='requirements, and bringing them into compliance would require significant changes to our production'\n",
      "--------\n",
      "--------\n",
      "page_content='process and supply chain, resulting in unsustainable costs.'\n",
      "--------\n",
      "--------\n",
      "page_content='2. Italy\n",
      "- Reason: Unstable Economic Environment'\n",
      "--------\n",
      "--------\n",
      "page_content='- The ongoing economic instability in Italy poses a high risk for business operations. The'\n",
      "--------\n",
      "--------\n",
      "page_content='fluctuating currency value and unpredictable economic policies create an uncertain environment that'\n",
      "--------\n",
      "--------\n",
      "page_content='could lead to substantial financial losses. Until the economic situation stabilizes, we have'\n",
      "--------\n",
      "--------\n",
      "page_content='decided to suspend all sales to Italy to safeguard our company's interests.'\n",
      "--------\n",
      "--------\n",
      "page_content='3. Germany\n",
      "- Reason: Market Saturation and Competition'\n",
      "--------\n",
      "--------\n",
      "page_content='- The German market is currently saturated with competitors offering similar products at lower'\n",
      "--------\n",
      "--------\n",
      "page_content='prices. The high level of competition, combined with significant market entry barriers, makes it'\n",
      "--------\n",
      "--------\n",
      "page_content='challenging to achieve a profitable market share. Consequently, we have decided to redirect our'\n",
      "--------\n",
      "--------\n",
      "page_content='resources to more viable markets.'\n",
      "--------\n",
      "--------\n",
      "page_content='4. Sweden\n",
      "- Reason: Ethical and Environmental Concerns'\n",
      "--------\n",
      "--------\n",
      "page_content='- Sweden has stringent environmental protection laws and a strong emphasis on sustainable'\n",
      "--------\n",
      "--------\n",
      "page_content='practices. Some of our products do not yet meet Sweden's high environmental standards.'\n",
      "--------\n",
      "--------\n",
      "page_content='Additionally, there have been concerns raised about the ethical sourcing of materials used in our'\n",
      "--------\n",
      "--------\n",
      "page_content='products. Until we can ensure full compliance with Sweden's ethical and environmental standards, we'\n",
      "--------\n",
      "--------\n",
      "page_content='will not conduct sales in this market.'\n",
      "--------\n",
      "--------\n",
      "page_content='### Conclusion'\n",
      "--------\n",
      "--------\n",
      "page_content='Our decision to not sell in these countries is based on a thorough analysis of various factors that'\n",
      "--------\n",
      "--------\n",
      "page_content='impact our business operations and ethical standards. We remain committed to exploring potential'\n",
      "--------\n",
      "--------\n",
      "page_content='opportunities in these regions in the future, should the conditions change favorably.'\n",
      "--------\n",
      "--------\n",
      "page_content='If you have any questions or require further information, please contact the Compliance Department.'\n",
      "--------\n"
     ]
    }
   ],
   "source": [
    "\n",
    "from langchain_text_splitters import RecursiveCharacterTextSplitter\n",
    "\n",
    "with open(FILE_PATH, 'r') as file:\n",
    "    markdown = file.read()\n",
    "\n",
    "\n",
    "text_splitter = RecursiveCharacterTextSplitter(chunk_size=100, chunk_overlap=0)\n",
    "\n",
    "documents = text_splitter.create_documents(text_splitter.split_text(markdown))\n",
    "for doc in documents:\n",
    "    print(\"--------\")\n",
    "    print(doc)\n",
    "    print(\"--------\")"
   ],
   "metadata": {
    "collapsed": false,
    "ExecuteTime": {
     "end_time": "2024-07-31T18:00:14.870032Z",
     "start_time": "2024-07-31T18:00:14.858650Z"
    }
   },
   "id": "b156e61d2a0312b5"
  },
  {
   "cell_type": "markdown",
   "source": [
    "## Langchain Markdownloader/Splitter chunking"
   ],
   "metadata": {
    "collapsed": false
   },
   "id": "d602aea5a62865b7"
  },
  {
   "cell_type": "raw",
   "source": [
    "Would like to check if there is any extra benefits of using built in tools for langchain for Markdowns"
   ],
   "metadata": {
    "collapsed": false
   },
   "id": "ce913c732adbb30d"
  },
  {
   "cell_type": "code",
   "execution_count": 17,
   "outputs": [
    {
     "name": "stdout",
     "output_type": "stream",
     "text": [
      "--------\n",
      "page_content='No Sale Countries' metadata={'source': '../no_sale_countries.md', 'category_depth': 0, 'last_modified': '2024-07-27T12:52:04', 'languages': ['eng'], 'filetype': 'text/markdown', 'file_directory': '..', 'filename': 'no_sale_countries.md', 'category': 'Title'}\n",
      "--------\n",
      "--------\n",
      "page_content='As part of our commitment to ethical business practices and compliance with international regulations, [Your Company Name] has identified certain countries where we will not conduct sales. This decision is based on a combination of factors including but not limited to legal restrictions, ethical concerns, and market conditions.' metadata={'source': '../no_sale_countries.md', 'last_modified': '2024-07-27T12:52:04', 'languages': ['eng'], 'parent_id': 'f61d476babc2c078e3029a4bebacbb3f', 'filetype': 'text/markdown', 'file_directory': '..', 'filename': 'no_sale_countries.md', 'category': 'NarrativeText'}\n",
      "--------\n",
      "--------\n",
      "page_content='The following countries are on our no sale list, along with the specific reasons for each designation:' metadata={'source': '../no_sale_countries.md', 'last_modified': '2024-07-27T12:52:04', 'languages': ['eng'], 'parent_id': 'f61d476babc2c078e3029a4bebacbb3f', 'filetype': 'text/markdown', 'file_directory': '..', 'filename': 'no_sale_countries.md', 'category': 'NarrativeText'}\n",
      "--------\n",
      "--------\n",
      "page_content='Spain' metadata={'source': '../no_sale_countries.md', 'category_depth': 1, 'last_modified': '2024-07-27T12:52:04', 'languages': ['eng'], 'parent_id': 'f61d476babc2c078e3029a4bebacbb3f', 'filetype': 'text/markdown', 'file_directory': '..', 'filename': 'no_sale_countries.md', 'category': 'ListItem'}\n",
      "--------\n",
      "--------\n",
      "page_content='Reason: Compliance with Local Regulations' metadata={'source': '../no_sale_countries.md', 'category_depth': 1, 'last_modified': '2024-07-27T12:52:04', 'languages': ['eng'], 'parent_id': 'f61d476babc2c078e3029a4bebacbb3f', 'filetype': 'text/markdown', 'file_directory': '..', 'filename': 'no_sale_countries.md', 'category': 'ListItem'}\n",
      "--------\n",
      "--------\n",
      "page_content='Spain has recently implemented stringent regulations on the sale of specific categories of products that we manufacture. Our current product lines do not meet the new regulatory requirements, and bringing them into compliance would require significant changes to our production process and supply chain, resulting in unsustainable costs.' metadata={'source': '../no_sale_countries.md', 'last_modified': '2024-07-27T12:52:04', 'languages': ['eng'], 'parent_id': 'f61d476babc2c078e3029a4bebacbb3f', 'filetype': 'text/markdown', 'file_directory': '..', 'filename': 'no_sale_countries.md', 'category': 'NarrativeText'}\n",
      "--------\n",
      "--------\n",
      "page_content='Italy' metadata={'source': '../no_sale_countries.md', 'category_depth': 0, 'last_modified': '2024-07-27T12:52:04', 'languages': ['eng'], 'filetype': 'text/markdown', 'file_directory': '..', 'filename': 'no_sale_countries.md', 'category': 'Title'}\n",
      "--------\n",
      "--------\n",
      "page_content='Reason: Unstable Economic Environment' metadata={'source': '../no_sale_countries.md', 'category_depth': 1, 'last_modified': '2024-07-27T12:52:04', 'languages': ['eng'], 'parent_id': 'e0e577583dec4f57812370f801a78603', 'filetype': 'text/markdown', 'file_directory': '..', 'filename': 'no_sale_countries.md', 'category': 'ListItem'}\n",
      "--------\n",
      "--------\n",
      "page_content='The ongoing economic instability in Italy poses a high risk for business operations. The fluctuating currency value and unpredictable economic policies create an uncertain environment that could lead to substantial financial losses. Until the economic situation stabilizes, we have decided to suspend all sales to Italy to safeguard our company's interests.' metadata={'source': '../no_sale_countries.md', 'last_modified': '2024-07-27T12:52:04', 'languages': ['eng'], 'parent_id': 'e0e577583dec4f57812370f801a78603', 'filetype': 'text/markdown', 'file_directory': '..', 'filename': 'no_sale_countries.md', 'category': 'NarrativeText'}\n",
      "--------\n",
      "--------\n",
      "page_content='Germany' metadata={'source': '../no_sale_countries.md', 'category_depth': 0, 'last_modified': '2024-07-27T12:52:04', 'languages': ['eng'], 'filetype': 'text/markdown', 'file_directory': '..', 'filename': 'no_sale_countries.md', 'category': 'Title'}\n",
      "--------\n",
      "--------\n",
      "page_content='Reason: Market Saturation and Competition' metadata={'source': '../no_sale_countries.md', 'category_depth': 1, 'last_modified': '2024-07-27T12:52:04', 'languages': ['eng'], 'parent_id': '79c3b511a3cfaba7767276e54f858a05', 'filetype': 'text/markdown', 'file_directory': '..', 'filename': 'no_sale_countries.md', 'category': 'ListItem'}\n",
      "--------\n",
      "--------\n",
      "page_content='The German market is currently saturated with competitors offering similar products at lower prices. The high level of competition, combined with significant market entry barriers, makes it challenging to achieve a profitable market share. Consequently, we have decided to redirect our resources to more viable markets.' metadata={'source': '../no_sale_countries.md', 'last_modified': '2024-07-27T12:52:04', 'languages': ['eng'], 'parent_id': '79c3b511a3cfaba7767276e54f858a05', 'filetype': 'text/markdown', 'file_directory': '..', 'filename': 'no_sale_countries.md', 'category': 'NarrativeText'}\n",
      "--------\n",
      "--------\n",
      "page_content='Sweden' metadata={'source': '../no_sale_countries.md', 'category_depth': 0, 'last_modified': '2024-07-27T12:52:04', 'languages': ['eng'], 'filetype': 'text/markdown', 'file_directory': '..', 'filename': 'no_sale_countries.md', 'category': 'Title'}\n",
      "--------\n",
      "--------\n",
      "page_content='Reason: Ethical and Environmental Concerns' metadata={'source': '../no_sale_countries.md', 'category_depth': 1, 'last_modified': '2024-07-27T12:52:04', 'languages': ['eng'], 'parent_id': 'c5566bdd74471daf911094cd5a0fe8d5', 'filetype': 'text/markdown', 'file_directory': '..', 'filename': 'no_sale_countries.md', 'category': 'ListItem'}\n",
      "--------\n",
      "--------\n",
      "page_content='Sweden has stringent environmental protection laws and a strong emphasis on sustainable practices. Some of our products do not yet meet Sweden's high environmental standards. Additionally, there have been concerns raised about the ethical sourcing of materials used in our products. Until we can ensure full compliance with Sweden's ethical and environmental standards, we will not conduct sales in this market.' metadata={'source': '../no_sale_countries.md', 'category_depth': 1, 'last_modified': '2024-07-27T12:52:04', 'languages': ['eng'], 'parent_id': 'c5566bdd74471daf911094cd5a0fe8d5', 'filetype': 'text/markdown', 'file_directory': '..', 'filename': 'no_sale_countries.md', 'category': 'ListItem'}\n",
      "--------\n",
      "--------\n",
      "page_content='Conclusion' metadata={'source': '../no_sale_countries.md', 'category_depth': 2, 'last_modified': '2024-07-27T12:52:04', 'languages': ['eng'], 'parent_id': 'c5566bdd74471daf911094cd5a0fe8d5', 'filetype': 'text/markdown', 'file_directory': '..', 'filename': 'no_sale_countries.md', 'category': 'Title'}\n",
      "--------\n",
      "--------\n",
      "page_content='Our decision to not sell in these countries is based on a thorough analysis of various factors that impact our business operations and ethical standards. We remain committed to exploring potential opportunities in these regions in the future, should the conditions change favorably.' metadata={'source': '../no_sale_countries.md', 'last_modified': '2024-07-27T12:52:04', 'languages': ['eng'], 'parent_id': 'b3dfb22c3743c28b4bf222a3aa0e4610', 'filetype': 'text/markdown', 'file_directory': '..', 'filename': 'no_sale_countries.md', 'category': 'NarrativeText'}\n",
      "--------\n",
      "--------\n",
      "page_content='If you have any questions or require further information, please contact the Compliance Department.' metadata={'source': '../no_sale_countries.md', 'last_modified': '2024-07-27T12:52:04', 'languages': ['eng'], 'parent_id': 'b3dfb22c3743c28b4bf222a3aa0e4610', 'filetype': 'text/markdown', 'file_directory': '..', 'filename': 'no_sale_countries.md', 'category': 'NarrativeText'}\n",
      "--------\n"
     ]
    }
   ],
   "source": [
    "from langchain_community.document_loaders import UnstructuredMarkdownLoader\n",
    "\n",
    "loader = UnstructuredMarkdownLoader(FILE_PATH, mode=\"elements\")\n",
    "documents = loader.load()\n",
    "for sec in documents:\n",
    "    print(\"--------\")\n",
    "    print(sec)\n",
    "    print(\"--------\")"
   ],
   "metadata": {
    "collapsed": false,
    "ExecuteTime": {
     "end_time": "2024-07-31T18:02:58.155877Z",
     "start_time": "2024-07-31T18:02:58.144845Z"
    }
   },
   "id": "8ac951f4bb36903"
  },
  {
   "cell_type": "markdown",
   "source": [
    "## Langchain MarkdownHeaderTextSplitter (chunking)"
   ],
   "metadata": {
    "collapsed": false,
    "ExecuteTime": {
     "end_time": "2024-07-31T17:49:58.517746Z",
     "start_time": "2024-07-31T17:49:53.918001Z"
    }
   },
   "id": "7972b29b3ce1df62"
  },
  {
   "cell_type": "raw",
   "source": [
    "if used correctly this can be good, however, for this task this is not really good chunks"
   ],
   "metadata": {
    "collapsed": false
   },
   "id": "ae71b6e992876846"
  },
  {
   "cell_type": "code",
   "execution_count": 21,
   "outputs": [
    {
     "name": "stdout",
     "output_type": "stream",
     "text": [
      "--------\n",
      "page_content='As part of our commitment to ethical business practices and compliance with international regulations, [Your Company Name] has identified certain countries where we will not conduct sales. This decision is based on a combination of factors including but not limited to legal restrictions, ethical concerns, and market conditions.  \n",
      "The following countries are on our no sale list, along with the specific reasons for each designation:  \n",
      "1. Spain\n",
      "- Reason: Compliance with Local Regulations\n",
      "- Spain has recently implemented stringent regulations on the sale of specific categories of products that we manufacture. Our current product lines do not meet the new regulatory requirements, and bringing them into compliance would require significant changes to our production process and supply chain, resulting in unsustainable costs.  \n",
      "2. Italy\n",
      "- Reason: Unstable Economic Environment\n",
      "- The ongoing economic instability in Italy poses a high risk for business operations. The fluctuating currency value and unpredictable economic policies create an uncertain environment that could lead to substantial financial losses. Until the economic situation stabilizes, we have decided to suspend all sales to Italy to safeguard our company's interests.  \n",
      "3. Germany\n",
      "- Reason: Market Saturation and Competition\n",
      "- The German market is currently saturated with competitors offering similar products at lower prices. The high level of competition, combined with significant market entry barriers, makes it challenging to achieve a profitable market share. Consequently, we have decided to redirect our resources to more viable markets.  \n",
      "4. Sweden\n",
      "- Reason: Ethical and Environmental Concerns\n",
      "- Sweden has stringent environmental protection laws and a strong emphasis on sustainable practices. Some of our products do not yet meet Sweden's high environmental standards. Additionally, there have been concerns raised about the ethical sourcing of materials used in our products. Until we can ensure full compliance with Sweden's ethical and environmental standards, we will not conduct sales in this market.' metadata={'Header 1': 'No Sale Countries'}\n",
      "--------\n",
      "--------\n",
      "page_content='Our decision to not sell in these countries is based on a thorough analysis of various factors that impact our business operations and ethical standards. We remain committed to exploring potential opportunities in these regions in the future, should the conditions change favorably.  \n",
      "If you have any questions or require further information, please contact the Compliance Department.' metadata={'Header 1': 'No Sale Countries', 'Header 3': 'Conclusion'}\n",
      "--------\n"
     ]
    }
   ],
   "source": [
    "from langchain_text_splitters import MarkdownHeaderTextSplitter\n",
    "with open(FILE_PATH, 'r') as file:\n",
    "        markdown_document = file.read()\n",
    "\n",
    "headers_to_split_on = [\n",
    "    (\"#\", \"Header 1\"),\n",
    "    (\"##\", \"Header 2\"),\n",
    "    (\"###\", \"Header 3\"),\n",
    "]\n",
    "\n",
    "markdown_splitter = MarkdownHeaderTextSplitter(headers_to_split_on=headers_to_split_on)\n",
    "md_header_splits = markdown_splitter.split_text(markdown_document)\n",
    "\n",
    "for chunk in md_header_splits:\n",
    "    print(\"--------\")\n",
    "    print(chunk)\n",
    "    print(\"--------\")"
   ],
   "metadata": {
    "collapsed": false,
    "ExecuteTime": {
     "end_time": "2024-07-31T18:04:27.708058Z",
     "start_time": "2024-07-31T18:04:27.703325Z"
    }
   },
   "id": "30422954ae82e327"
  },
  {
   "cell_type": "raw",
   "source": [
    "Result of the exploration, of course custom splitting and custom creating chunks is more reliable, can cover more specific and edge-cases of your use case. Langchain can have additional metadata features (which can also be implemented manually for the use-case specific. I am personally not fan of langchain not that much.)"
   ],
   "metadata": {
    "collapsed": false
   },
   "id": "bbea2525996864d3"
  }
 ],
 "metadata": {
  "kernelspec": {
   "display_name": "Python 3 (ipykernel)",
   "language": "python",
   "name": "python3"
  },
  "language_info": {
   "codemirror_mode": {
    "name": "ipython",
    "version": 3
   },
   "file_extension": ".py",
   "mimetype": "text/x-python",
   "name": "python",
   "nbconvert_exporter": "python",
   "pygments_lexer": "ipython3",
   "version": "3.11.6"
  }
 },
 "nbformat": 4,
 "nbformat_minor": 5
}
